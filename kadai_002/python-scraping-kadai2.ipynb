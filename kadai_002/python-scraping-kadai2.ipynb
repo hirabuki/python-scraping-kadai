{
 "cells": [
  {
   "cell_type": "code",
   "execution_count": null,
   "metadata": {},
   "outputs": [],
   "source": [
    "import requests\n",
    "import pprint\n",
    "from getpass import getpass\n",
    "\n",
    "#　APIキーを指定\n",
    "api_key = getpass('APIキーを入力してください: ')\n",
    "\n",
    "# 検索キーワードを変数search_wordに格納\n",
    "search_word = input('駅名を入力してください: ')\n",
    "\n",
    "# 入力された駅の緯度経度を取得するAPIエンドポイントURL\n",
    "url_geo = 'https://maps.googleapis.com/maps/api/geocode/json'\n",
    "\n",
    "#　データを取得\n",
    "response_location = requests.get(\n",
    "    url_geo,\n",
    "    params={\n",
    "        'key' : api_key,\n",
    "        'address' : search_word,\n",
    "    }\n",
    ")\n",
    "\n",
    "# レスポンスのJSONを取得\n",
    "json_data1 = response_location.json()\n",
    "\n",
    "for value in json_data1['results']:\n",
    "    location_Latitude = value['geometry']['location']['lat']\n",
    "    location_Longitude = value['geometry']['location']['lng']\n",
    "\n",
    "#　レストラン情報を取得するためのAPIエンドポイントURL\n",
    "url_nearby = 'https://maps.googleapis.com/maps/api/place/nearbysearch/json'\n",
    "\n",
    "#　データを取得\n",
    "response_restaurant = requests.get(\n",
    "    url_nearby,\n",
    "    params={\n",
    "        'key' : api_key,\n",
    "        'location' : f\"{location_Latitude},{location_Longitude}\",\n",
    "        'language' : 'ja',\n",
    "        'radius' : 500,\n",
    "        'type' : 'restaurant'\n",
    "    }\n",
    ")\n",
    "\n",
    "# レスポンスのJSONを取得\n",
    "json_data2 = response_restaurant.json()\n",
    "\n",
    "\n",
    "for value in json_data2['results']:\n",
    "    name = value['name']    \n",
    "    # 'rating'キーが存在するか確認\n",
    "    rating = value.get('rating', '評価なし')  # キーが存在しない場合は'評価なし'を返す\n",
    "    address = value['vicinity']\n",
    "\n",
    "    print(f'店名：{name}, 評価：{rating}, 住所：{address}')\n"
   ]
  }
 ],
 "metadata": {
  "kernelspec": {
   "display_name": "Python 3",
   "language": "python",
   "name": "python3"
  },
  "language_info": {
   "codemirror_mode": {
    "name": "ipython",
    "version": 3
   },
   "file_extension": ".py",
   "mimetype": "text/x-python",
   "name": "python",
   "nbconvert_exporter": "python",
   "pygments_lexer": "ipython3",
   "version": "3.9.2"
  },
  "orig_nbformat": 4
 },
 "nbformat": 4,
 "nbformat_minor": 2
}
