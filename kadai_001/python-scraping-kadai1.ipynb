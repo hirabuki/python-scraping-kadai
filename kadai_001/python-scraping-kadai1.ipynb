{
 "cells": [
  {
   "cell_type": "code",
   "execution_count": null,
   "metadata": {},
   "outputs": [],
   "source": [
    "import requests\n",
    "from bs4 import BeautifulSoup\n",
    "import re  # 正規表現を使用するためのモジュール\n",
    "\n",
    "# 記事を取得する対象のURL\n",
    "url = 'https://news.yahoo.co.jp/articles/1e030c740880d733e79a1c32ff8ce9b883b6ab50'\n",
    "\n",
    "# GETリクエストを送信し、HTMLを取得する\n",
    "response = requests.get(url)\n",
    "\n",
    "# HTMLを解析する\n",
    "soup = BeautifulSoup(response.text, 'html.parser')\n",
    "\n",
    "# 本文の要素を取得する\n",
    "# CSSセレクタを使用して、本文を取得する\n",
    "article_body_element = soup.select_one('#uamods > .article_body')\n",
    "\n",
    "# 本文のテキストを取得する\n",
    "article_body_text = article_body_element.text\n",
    "\n",
    "# 文章を一文ずつに分割する\n",
    "sentences = re.split(r'(?<=[。？！])\\s*', article_body_text)\n",
    "\n",
    "for sentence in sentences:\n",
    "    print(sentence.strip())"
   ]
  }
 ],
 "metadata": {
  "kernelspec": {
   "display_name": "Python 3",
   "language": "python",
   "name": "python3"
  },
  "language_info": {
   "codemirror_mode": {
    "name": "ipython",
    "version": 3
   },
   "file_extension": ".py",
   "mimetype": "text/x-python",
   "name": "python",
   "nbconvert_exporter": "python",
   "pygments_lexer": "ipython3",
   "version": "3.9.2"
  },
  "orig_nbformat": 4
 },
 "nbformat": 4,
 "nbformat_minor": 2
}
